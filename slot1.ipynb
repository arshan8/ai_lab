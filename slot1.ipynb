{
 "cells": [
  {
   "cell_type": "code",
   "execution_count": 5,
   "metadata": {},
   "outputs": [
    {
     "name": "stdout",
     "output_type": "stream",
     "text": [
      "no\n"
     ]
    }
   ],
   "source": [
    "#water jug\n",
    "\n",
    "goal = 10\n",
    "capa_j1 = 4\n",
    "capa_j2 = 3\n",
    "\n",
    "\n",
    "def is_goal(state):\n",
    "    if goal in state:\n",
    "        return True\n",
    "    else:\n",
    "        False\n",
    "\n",
    "def get_nrs(state):\n",
    "    j1 = state[0]\n",
    "    j2 = state[1]\n",
    "    nbrs = []\n",
    "\n",
    "    if j1>0:\n",
    "        nbrs.append((0,j2))\n",
    "\n",
    "    if j2>0:\n",
    "        nbrs.append((j1,0))\n",
    "\n",
    "    if j1 < capa_j1:\n",
    "        nbrs.append((capa_j1,j2))\n",
    "\n",
    "    if j2 < capa_j2:\n",
    "        nbrs.append((j1,capa_j2))\n",
    "\n",
    "    t = min(j1, capa_j2 - j2)\n",
    "    nbrs.append((j1-t, j2+t))\n",
    "\n",
    "    t = min(capa_j1-j1,j2)\n",
    "    nbrs.append((j1+t,j2-t))  \n",
    "\n",
    "    return nbrs  \n",
    "\n",
    "Start = (0,0)\n",
    "def bfs():\n",
    "    q = [((Start),[])]\n",
    "    visited =[]\n",
    "\n",
    "    while q:\n",
    "        node = q.pop(0)\n",
    "        state = node[0]\n",
    "        path = node[1]\n",
    "\n",
    "        if is_goal(state):\n",
    "            return path + [state]\n",
    "\n",
    "        visited.append(state)\n",
    "\n",
    "        for nb in get_nrs(state):\n",
    "            if nb not in visited and nb not in [k for k,v in q]:\n",
    "                new_path = path + [state]\n",
    "                q.append((nb,new_path))\n",
    "            \n",
    "if bfs():\n",
    "    for r in bfs():\n",
    "        print(r)\n",
    "else:\n",
    "    print(\"no\")"
   ]
  },
  {
   "cell_type": "code",
   "execution_count": 15,
   "metadata": {},
   "outputs": [
    {
     "name": "stdout",
     "output_type": "stream",
     "text": [
      "yayyy\n"
     ]
    }
   ],
   "source": [
    "#banana monkey\n",
    "\n",
    "state = { \n",
    "    \"chair_pos\" : \"window\" ,\n",
    "    \"monkey_pos\" : \"floor\",   #must be on chair\n",
    "       #must be in middle \n",
    "    \"has_banana\" : True\n",
    "}\n",
    "\n",
    "def get_chair():\n",
    "    global state\n",
    "    if state[\"chair_pos\"] == \"window\" and state[\"has_banana\"] == False:\n",
    "        print(\"print monkey moved chair under banana\")\n",
    "        state[\"chair_pos\"] = \"middle\"\n",
    "        return True\n",
    "    else:\n",
    "        return False\n",
    "    \n",
    "def climb_up():\n",
    "    global state\n",
    "    if state[\"chair_pos\"] == \"middle\" and state[\"monkey_pos\"] == \"floor\" and state[\"has_banana\"] == False:\n",
    "        print(\"monkey climbed up on the chair\")\n",
    "        state[\"monkey_pos\"] = \"chair\"\n",
    "        return True\n",
    "    else:\n",
    "        return False\n",
    "\n",
    "def grab():\n",
    "    global state\n",
    "    if state[\"monkey_pos\"] == \"chair\"and state[\"has_banana\"] == False:\n",
    "        print(\"MONKEYY IS GRABBING BANANANA\")\n",
    "        state[\"has_banana\"] = True\n",
    "        return True\n",
    "    else:\n",
    "        return False\n",
    "    \n",
    "\n",
    "\n",
    "\n",
    "while True:\n",
    "    action = get_chair() or climb_up() or grab()  #is it doing all 3 functionn in one loop iteration?\n",
    "    if state[\"has_banana\"] == True:\n",
    "        print(\"yayyy\")\n",
    "        break\n",
    "    if action:\n",
    "        continue\n",
    "    else:\n",
    "        print(\"NOOOO\")\n",
    "        break"
   ]
  },
  {
   "cell_type": "code",
   "execution_count": null,
   "metadata": {},
   "outputs": [],
   "source": []
  }
 ],
 "metadata": {
  "kernelspec": {
   "display_name": "base",
   "language": "python",
   "name": "python3"
  },
  "language_info": {
   "codemirror_mode": {
    "name": "ipython",
    "version": 3
   },
   "file_extension": ".py",
   "mimetype": "text/x-python",
   "name": "python",
   "nbconvert_exporter": "python",
   "pygments_lexer": "ipython3",
   "version": "3.11.5"
  }
 },
 "nbformat": 4,
 "nbformat_minor": 2
}
