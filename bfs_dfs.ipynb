{
 "cells": [
  {
   "cell_type": "code",
   "execution_count": 3,
   "metadata": {},
   "outputs": [
    {
     "name": "stdout",
     "output_type": "stream",
     "text": [
      "['A', 'B', 'D', 'F', 'C', 'E', 'G']\n"
     ]
    }
   ],
   "source": [
    "#bfs\n",
    "graph = {'A': ['B', 'D'], 'B': ['F', 'C','A'], 'C': ['E','G'], 'D': ['F'], 'F': ['A'],'E':['F'],'G':['E']}\n",
    "my_q = ['A']\n",
    "visited = []\n",
    "\n",
    "while my_q:\n",
    "    state = my_q.pop(0)\n",
    "    visited.append(state)\n",
    "    for neigbor in graph[state]:\n",
    "        if neigbor not in visited and neigbor not in my_q:  #its its or\n",
    "            my_q.append(neigbor)\n",
    "            \n",
    "        \n",
    "\n",
    "print(visited)\n"
   ]
  },
  {
   "cell_type": "code",
   "execution_count": 7,
   "metadata": {},
   "outputs": [
    {
     "name": "stdout",
     "output_type": "stream",
     "text": [
      "['A', 'D', 'F', 'B', 'C', 'G', 'E']\n"
     ]
    }
   ],
   "source": [
    "#dfs\n",
    "graph = {'A': ['B', 'D'], 'B': ['F', 'C','A'], 'C': ['E','G'], 'D': ['F'], 'F': ['A'],'E':['F'],'G':['E']}\n",
    "my_stk= ['A']\n",
    "visited = []\n",
    "\n",
    "while my_stk:\n",
    "    state = my_stk.pop(0)\n",
    "    visited.append(state)\n",
    "    for neigbor in graph[state]:\n",
    "        if neigbor not in visited and neigbor not in my_stk:\n",
    "            my_stk.insert(0,neigbor)\n",
    "            \n",
    "        \n",
    "\n",
    "print(visited)\n"
   ]
  },
  {
   "cell_type": "code",
   "execution_count": null,
   "metadata": {},
   "outputs": [],
   "source": []
  },
  {
   "cell_type": "code",
   "execution_count": null,
   "metadata": {},
   "outputs": [
    {
     "name": "stdout",
     "output_type": "stream",
     "text": [
      "solution:: -->\n",
      "(0, 0)\n",
      "(0, 3)\n",
      "(3, 0)\n",
      "(3, 3)\n",
      "(4, 2)\n"
     ]
    }
   ],
   "source": []
  }
 ],
 "metadata": {
  "kernelspec": {
   "display_name": "base",
   "language": "python",
   "name": "python3"
  },
  "language_info": {
   "codemirror_mode": {
    "name": "ipython",
    "version": 3
   },
   "file_extension": ".py",
   "mimetype": "text/x-python",
   "name": "python",
   "nbconvert_exporter": "python",
   "pygments_lexer": "ipython3",
   "version": "3.11.5"
  }
 },
 "nbformat": 4,
 "nbformat_minor": 2
}
